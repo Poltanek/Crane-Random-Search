{
 "cells": [
  {
   "cell_type": "code",
   "execution_count": 7,
   "metadata": {},
   "outputs": [
    {
     "name": "stdout",
     "output_type": "stream",
     "text": [
      "[1, 2] <=[3]-\n",
      "[]\n",
      "[4]\n",
      "[]\n",
      "Total cost: 0\n",
      "\n"
     ]
    }
   ],
   "source": [
    "import copy\n",
    "\n",
    "initial_bays = [[1,2], [], [4], []]\n",
    "initial_crane_position = 0\n",
    "initial_crane_container_held = 3\n",
    "initial_cost = 0\n",
    "\n",
    "# Created a function to print a clearer visualization\n",
    "# of the state\n",
    "\n",
    "# This visualization is rotated clockwise: right and left are\n",
    "# visualized as down and up.\n",
    "\n",
    "def print_state(state_and_time):\n",
    "    state = state_and_time[0]\n",
    "    for i in range(len(state[0])):\n",
    "        if i == state[1]:\n",
    "            print(str(state[0][i])+\" <=[\"+str(state[2])+\"]-\")\n",
    "        else:\n",
    "            print(str(state[0][i]))\n",
    "    print(\"Total cost: \" +str(state_and_time[1]))\n",
    "    print()\n",
    "\n",
    "# Created an object with information about the initial state\n",
    "\n",
    "initial_state = ([initial_bays, initial_crane_position, initial_crane_container_held], 0)\n",
    "\n",
    "print_state(initial_state)\n"
   ]
  },
  {
   "cell_type": "code",
   "execution_count": null,
   "metadata": {},
   "outputs": [],
   "source": [
    "# Here we create a function that allows us to compute the next state we end up\n",
    "# with if we apply an action to a state\n",
    "\n",
    "def perform_action(state, action):\n",
    "    new_state = copy.deepcopy(state[0])\n",
    "    new_state_cost = state[1]\n",
    "    cost = 0\n",
    "    if action == \"RIGHT\":\n",
    "        if new_state[1] >= (len(new_state[0]) -1):\n",
    "            return None\n",
    "        new_state[1] = int(new_state[1])+1\n",
    "        cost = 1"
   ]
  }
 ],
 "metadata": {
  "kernelspec": {
   "display_name": "Python 3",
   "language": "python",
   "name": "python3"
  },
  "language_info": {
   "codemirror_mode": {
    "name": "ipython",
    "version": 3
   },
   "file_extension": ".py",
   "mimetype": "text/x-python",
   "name": "python",
   "nbconvert_exporter": "python",
   "pygments_lexer": "ipython3",
   "version": "3.12.6"
  }
 },
 "nbformat": 4,
 "nbformat_minor": 2
}
